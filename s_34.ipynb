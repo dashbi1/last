{
 "cells": [
  {
   "cell_type": "code",
   "execution_count": null,
   "id": "1851b8eb",
   "metadata": {},
   "outputs": [],
   "source": []
  },
  {
   "cell_type": "code",
   "execution_count": null,
   "id": "82f51a19",
   "metadata": {
    "lines_to_next_cell": 2
   },
   "outputs": [],
   "source": [
    "import cv2\n",
    "import numpy as np\n",
    "import matplotlib.pyplot as plt\n",
    "import time"
   ]
  },
  {
   "cell_type": "code",
   "execution_count": null,
   "id": "09060b21",
   "metadata": {},
   "outputs": [],
   "source": [
    "img1 = cv2.imread('8.jpg', cv2.IMREAD_GRAYSCALE)  \n",
    "img2 = cv2.imread('9.jpg', cv2.IMREAD_GRAYSCALE)  "
   ]
  },
  {
   "cell_type": "code",
   "execution_count": null,
   "id": "034f2db0",
   "metadata": {},
   "outputs": [],
   "source": []
  },
  {
   "cell_type": "code",
   "execution_count": null,
   "id": "bcd65bf6",
   "metadata": {},
   "outputs": [],
   "source": [
    "img1_cpy=cv2.imread('8.jpg', cv2.IMREAD_COLOR);\n",
    "img2_cpy=cv2.imread('9.jpg', cv2.IMREAD_COLOR);"
   ]
  },
  {
   "cell_type": "code",
   "execution_count": null,
   "id": "293e6c63",
   "metadata": {
    "lines_to_next_cell": 2
   },
   "outputs": [],
   "source": []
  },
  {
   "cell_type": "code",
   "execution_count": null,
   "id": "b10cf492",
   "metadata": {
    "lines_to_next_cell": 2
   },
   "outputs": [],
   "source": [
    "if img1 is None or img2 is None:\n",
    "    print(\"fail\")\n",
    "    exit()"
   ]
  },
  {
   "cell_type": "code",
   "execution_count": null,
   "id": "af1edc3a",
   "metadata": {
    "lines_to_next_cell": 2
   },
   "outputs": [],
   "source": [
    "t1 = time.time()\n",
    "time_sum=0;"
   ]
  },
  {
   "cell_type": "code",
   "execution_count": null,
   "id": "56c15daf",
   "metadata": {},
   "outputs": [],
   "source": [
    "h1, w1 = img1.shape"
   ]
  },
  {
   "cell_type": "code",
   "execution_count": null,
   "id": "02cda326",
   "metadata": {},
   "outputs": [],
   "source": [
    "img2 = cv2.resize(img2, (w1, h1))"
   ]
  },
  {
   "cell_type": "code",
   "execution_count": null,
   "id": "93d5615b",
   "metadata": {},
   "outputs": [],
   "source": [
    "h11,w11=img1_cpy.shape[:2]\n",
    "img2_cpy=cv2.resize(img2_cpy,(w11,h11));"
   ]
  },
  {
   "cell_type": "code",
   "execution_count": null,
   "id": "4c7c04f5",
   "metadata": {},
   "outputs": [],
   "source": []
  },
  {
   "cell_type": "code",
   "execution_count": null,
   "id": "ba6cddfb",
   "metadata": {},
   "outputs": [],
   "source": []
  },
  {
   "cell_type": "code",
   "execution_count": null,
   "id": "df082099",
   "metadata": {},
   "outputs": [],
   "source": [
    "print(1)"
   ]
  },
  {
   "cell_type": "code",
   "execution_count": null,
   "id": "8565c564",
   "metadata": {},
   "outputs": [],
   "source": [
    "sift = cv2.SIFT_create()"
   ]
  },
  {
   "cell_type": "code",
   "execution_count": null,
   "id": "ba9f9818",
   "metadata": {},
   "outputs": [],
   "source": [
    "kp1, des1 = sift.detectAndCompute(img1, None)  \n",
    "kp2, des2 = sift.detectAndCompute(img2, None)  \n",
    "print(2);"
   ]
  },
  {
   "cell_type": "code",
   "execution_count": null,
   "id": "3abef576",
   "metadata": {},
   "outputs": [],
   "source": [
    "bf = cv2.BFMatcher(cv2.NORM_L2, crossCheck=False)\n",
    "matches = bf.knnMatch(des1, des2, k=2)  \n",
    "print(3)"
   ]
  },
  {
   "cell_type": "code",
   "execution_count": null,
   "id": "8fc6c37a",
   "metadata": {},
   "outputs": [],
   "source": [
    "good_matches = []\n",
    "ratio_thresh = 0.75  \n",
    "for m, n in matches:\n",
    "    if m.distance < ratio_thresh * n.distance:\n",
    "        good_matches.append(m)"
   ]
  },
  {
   "cell_type": "code",
   "execution_count": null,
   "id": "c2f48cb7",
   "metadata": {},
   "outputs": [],
   "source": []
  },
  {
   "cell_type": "code",
   "execution_count": null,
   "id": "72ad492c",
   "metadata": {},
   "outputs": [],
   "source": [
    "print(4)"
   ]
  },
  {
   "cell_type": "code",
   "execution_count": null,
   "id": "c9dd1a91",
   "metadata": {},
   "outputs": [],
   "source": [
    "img_matches = cv2.drawMatches(img1, kp1, img2, kp2, good_matches, None, flags=cv2.DrawMatchesFlags_NOT_DRAW_SINGLE_POINTS)\n",
    "t2=time.time();\n",
    "time_sum+=t2-t1;"
   ]
  },
  {
   "cell_type": "code",
   "execution_count": null,
   "id": "b3abeddb",
   "metadata": {
    "lines_to_next_cell": 2
   },
   "outputs": [],
   "source": [
    "plt.figure(figsize=(10, 5))\n",
    "plt.imshow(img_matches)\n",
    "plt.title(\"Good Matches with Ratio Test\")\n",
    "plt.show()"
   ]
  },
  {
   "cell_type": "code",
   "execution_count": null,
   "id": "ce9990e0",
   "metadata": {},
   "outputs": [],
   "source": [
    "t1=time.time();\n",
    "print('final')"
   ]
  },
  {
   "cell_type": "code",
   "execution_count": null,
   "id": "8a6f3bb7",
   "metadata": {
    "comment_questions": false,
    "lines_to_next_cell": 2
   },
   "outputs": [],
   "source": [
    "if len(good_matches) > 4:\n",
    "\n",
    "    src_pts = np.float32([kp1[m.queryIdx].pt for m in good_matches]).reshape(-1, 1, 2)\n",
    "    dst_pts = np.float32([kp2[m.trainIdx].pt for m in good_matches]).reshape(-1, 1, 2)\n",
    "    #print(len(good_matches));\n",
    "    #print(src_pts.shape);\n",
    "\n",
    "    H, mask = cv2.findHomography(dst_pts, src_pts, cv2.RANSAC, 3 )\n",
    "    \n",
    "\n",
    "\n",
    "\n",
    "\n",
    "\n",
    "    \n",
    "    img1=img1_cpy\n",
    "    img2=img2_cpy\n",
    "    h1, w1 = img1.shape[:2]\n",
    "    h2, w2 = img2.shape[:2]\n",
    "\n",
    "\n",
    "\n",
    "    result1 = cv2.warpPerspective(img2, H, (w1 + w2, h2))\n",
    "    result = np.zeros((h1, w1 + w2, 3), dtype=np.uint8)\n",
    "    _, mmask = cv2.threshold(result1, 1, 255, cv2.THRESH_BINARY_INV)\n",
    "\n",
    "    result2=cv2.bitwise_and(img1[0:h1,0:w1], mmask[0:h1,0:w1])\n",
    "\n",
    "\n",
    "    result[0:h1, 0:w1] = result2\n",
    "    result=cv2.bitwise_or(result,result1);\n",
    "    \n",
    "\n",
    "\n",
    "    t2=time.time();\n",
    "    time_sum+=t2-t1;\n",
    "    print('over')\n",
    "    # ???????\n",
    "    cv2.imwrite('89.jpg',result);\n",
    "    plt.figure(figsize=(10, 5))\n",
    "    plt.imshow(result, cmap='gray')\n",
    "    plt.title(\"Image Stitching Result\")\n",
    "    plt.show()\n",
    "else:\n",
    "    print(\"no matrix\")\n",
    "    exit();"
   ]
  },
  {
   "cell_type": "code",
   "execution_count": null,
   "id": "15fbbd67",
   "metadata": {},
   "outputs": [],
   "source": [
    "elapsed_time = time_sum;\n",
    "fps = 1 / elapsed_time if elapsed_time > 0 else 0"
   ]
  },
  {
   "cell_type": "code",
   "execution_count": null,
   "id": "048c6ad1",
   "metadata": {},
   "outputs": [],
   "source": []
  },
  {
   "cell_type": "code",
   "execution_count": null,
   "id": "d68d1af1",
   "metadata": {},
   "outputs": [],
   "source": [
    "print(\"fps:\",fps);\n",
    "print(\"time_cost(second):\",time_sum);"
   ]
  }
 ],
 "metadata": {
  "jupytext": {
   "cell_metadata_filter": "comment_questions,-all",
   "encoding": "# -*- coding: utf-8 -*-",
   "main_language": "python",
   "notebook_metadata_filter": "-all"
  }
 },
 "nbformat": 4,
 "nbformat_minor": 5
}
