{
 "cells": [
  {
   "cell_type": "code",
   "execution_count": null,
   "id": "51bc66c0",
   "metadata": {},
   "outputs": [],
   "source": []
  },
  {
   "cell_type": "code",
   "execution_count": null,
   "id": "12fdbdb3",
   "metadata": {
    "lines_to_next_cell": 2
   },
   "outputs": [],
   "source": [
    "import cv2\n",
    "import numpy as np\n",
    "import matplotlib.pyplot as plt\n",
    "import time"
   ]
  },
  {
   "cell_type": "code",
   "execution_count": null,
   "id": "f225a607",
   "metadata": {},
   "outputs": [],
   "source": [
    "img1 = cv2.imread('3.jpg', cv2.IMREAD_GRAYSCALE)  \n",
    "img2 = cv2.imread('4.jpg', cv2.IMREAD_GRAYSCALE)  "
   ]
  },
  {
   "cell_type": "code",
   "execution_count": null,
   "id": "b239cfef",
   "metadata": {
    "lines_to_next_cell": 2
   },
   "outputs": [],
   "source": [
    "img1_cpy=cv2.imread('3.jpg', cv2.IMREAD_COLOR);\n",
    "img2_cpy=cv2.imread('4.jpg', cv2.IMREAD_COLOR);"
   ]
  },
  {
   "cell_type": "code",
   "execution_count": null,
   "id": "def8ed60",
   "metadata": {
    "lines_to_next_cell": 2
   },
   "outputs": [],
   "source": [
    "if img1 is None or img2 is None:\n",
    "    print(\"fail\")\n",
    "    exit()"
   ]
  },
  {
   "cell_type": "code",
   "execution_count": null,
   "id": "501c51f2",
   "metadata": {},
   "outputs": [],
   "source": [
    "t1 = time.time()\n",
    "time_sum=0;\n",
    "print(1)"
   ]
  },
  {
   "cell_type": "code",
   "execution_count": null,
   "id": "ebb087a2",
   "metadata": {},
   "outputs": [],
   "source": []
  },
  {
   "cell_type": "code",
   "execution_count": null,
   "id": "4bd136ad",
   "metadata": {},
   "outputs": [],
   "source": []
  },
  {
   "cell_type": "code",
   "execution_count": null,
   "id": "5bd0709e",
   "metadata": {},
   "outputs": [],
   "source": [
    "orb = cv2.ORB_create()\n",
    "kp1, des1 = orb.detectAndCompute(img1, None)\n",
    "kp2, des2 = orb.detectAndCompute(img2, None)\n",
    "print(2);"
   ]
  },
  {
   "cell_type": "code",
   "execution_count": null,
   "id": "bc3f4eba",
   "metadata": {
    "lines_to_next_cell": 2
   },
   "outputs": [],
   "source": [
    "des1 = np.float32(des1)\n",
    "des2 = np.float32(des2)"
   ]
  },
  {
   "cell_type": "code",
   "execution_count": null,
   "id": "b1a33517",
   "metadata": {
    "lines_to_next_cell": 2
   },
   "outputs": [],
   "source": [
    "index_params = dict(algorithm=1, trees=3)  \n",
    "search_params = dict(checks=10)  \n",
    "flann = cv2.FlannBasedMatcher(index_params, search_params)"
   ]
  },
  {
   "cell_type": "code",
   "execution_count": null,
   "id": "8a5bbe37",
   "metadata": {},
   "outputs": [],
   "source": [
    "matches = flann.knnMatch(des1, des2, k=2)"
   ]
  },
  {
   "cell_type": "code",
   "execution_count": null,
   "id": "0374fd2b",
   "metadata": {},
   "outputs": [],
   "source": []
  },
  {
   "cell_type": "code",
   "execution_count": null,
   "id": "a43f3b9c",
   "metadata": {},
   "outputs": [],
   "source": []
  },
  {
   "cell_type": "code",
   "execution_count": null,
   "id": "e8354bc0",
   "metadata": {
    "lines_to_next_cell": 2
   },
   "outputs": [],
   "source": [
    "print(3)"
   ]
  },
  {
   "cell_type": "code",
   "execution_count": null,
   "id": "cf60f93c",
   "metadata": {},
   "outputs": [],
   "source": [
    "good_matches = []\n",
    "ratio_thresh = 0.75  \n",
    "for m, n in matches:\n",
    "    if m.distance < ratio_thresh * n.distance:\n",
    "        good_matches.append(m)"
   ]
  },
  {
   "cell_type": "code",
   "execution_count": null,
   "id": "29917cef",
   "metadata": {},
   "outputs": [],
   "source": [
    "print(4)"
   ]
  },
  {
   "cell_type": "code",
   "execution_count": null,
   "id": "4a83a2dc",
   "metadata": {},
   "outputs": [],
   "source": [
    "img_matches = cv2.drawMatches(img1, kp1, img2, kp2, good_matches, None, flags=cv2.DrawMatchesFlags_NOT_DRAW_SINGLE_POINTS)\n",
    "t2=time.time();\n",
    "time_sum+=t2-t1;"
   ]
  },
  {
   "cell_type": "code",
   "execution_count": null,
   "id": "ce906229",
   "metadata": {
    "lines_to_next_cell": 2
   },
   "outputs": [],
   "source": [
    "plt.figure(figsize=(10, 5))\n",
    "plt.imshow(img_matches)\n",
    "plt.title(\"Good Matches with Ratio Test\")\n",
    "plt.show()"
   ]
  },
  {
   "cell_type": "code",
   "execution_count": null,
   "id": "8181b0af",
   "metadata": {},
   "outputs": [],
   "source": [
    "t1=time.time();\n",
    "print('final')"
   ]
  },
  {
   "cell_type": "code",
   "execution_count": null,
   "id": "7afe5f7c",
   "metadata": {
    "lines_to_next_cell": 2
   },
   "outputs": [],
   "source": [
    "if len(good_matches) > 4:\n",
    "\n",
    "    src_pts = np.float32([kp1[m.queryIdx].pt for m in good_matches]).reshape(-1, 1, 2)\n",
    "    dst_pts = np.float32([kp2[m.trainIdx].pt for m in good_matches]).reshape(-1, 1, 2)\n",
    "\n",
    "\n",
    "    H, mask = cv2.findHomography(src_pts, dst_pts, cv2.RANSAC, 5.0)\n",
    "\n",
    "\n",
    "\n",
    "    h1, w1 = img1.shape\n",
    "    h2, w2 = img2.shape\n",
    "    img1=img1_cpy\n",
    "    img2=img2_cpy\n",
    "    result = cv2.warpPerspective(img1, H, (w1 + w2, h1))\n",
    "    result[0:h2, 0:w2] = img2\n",
    "    t2=time.time();\n",
    "    time_sum+=t2-t1;\n",
    "    print('over')\n",
    "\n",
    "    cv2.imwrite('34.jpg',result);\n",
    "    plt.figure(figsize=(10, 5))\n",
    "    plt.imshow(result, cmap='gray')\n",
    "    plt.title(\"Image Stitching Result\")\n",
    "    plt.show()\n",
    "else:\n",
    "    print(\"no matrix\")\n",
    "    exit();"
   ]
  },
  {
   "cell_type": "code",
   "execution_count": null,
   "id": "0f3a90d1",
   "metadata": {},
   "outputs": [],
   "source": [
    "elapsed_time = time_sum;\n",
    "fps = 1 / elapsed_time if elapsed_time > 0 else 0"
   ]
  },
  {
   "cell_type": "code",
   "execution_count": null,
   "id": "0bb602fe",
   "metadata": {},
   "outputs": [],
   "source": []
  },
  {
   "cell_type": "code",
   "execution_count": null,
   "id": "db20ba65",
   "metadata": {},
   "outputs": [],
   "source": [
    "print(\"fps:\",fps);\n",
    "print(\"time_cost(second):\",time_sum);"
   ]
  },
  {
   "cell_type": "code",
   "execution_count": null,
   "id": "88d2770d",
   "metadata": {},
   "outputs": [],
   "source": [
    "    "
   ]
  }
 ],
 "metadata": {
  "jupytext": {
   "cell_metadata_filter": "-all",
   "encoding": "# -*- coding: utf-8 -*-",
   "main_language": "python",
   "notebook_metadata_filter": "-all"
  }
 },
 "nbformat": 4,
 "nbformat_minor": 5
}
